{
 "cells": [
  {
   "cell_type": "code",
   "execution_count": 35,
   "metadata": {
    "collapsed": true
   },
   "outputs": [],
   "source": [
    "import backedarray as ba\n",
    "import scipy.sparse\n",
    "import numpy as np\n",
    "import h5py\n",
    "import zarr"
   ]
  },
  {
   "cell_type": "markdown",
   "source": [],
   "metadata": {
    "collapsed": false
   }
  },
  {
   "cell_type": "markdown",
   "source": [
    "# Create Dataset"
   ],
   "metadata": {
    "collapsed": false
   }
  },
  {
   "cell_type": "code",
   "execution_count": 36,
   "outputs": [],
   "source": [
    "csr_matrix = scipy.sparse.random(100, 50, format=\"csr\", density=0.2)\n",
    "dense_array = csr_matrix.toarray()"
   ],
   "metadata": {
    "collapsed": false
   }
  },
  {
   "cell_type": "markdown",
   "source": [
    "## HDF5 Backend"
   ],
   "metadata": {
    "collapsed": false
   }
  },
  {
   "cell_type": "code",
   "execution_count": 37,
   "outputs": [],
   "source": [
    "# Write sparse matrix in csc or csr format to hdf5 file\n",
    "h5_csr_path = 'csr.h5'\n",
    "with h5py.File(h5_csr_path, \"w\") as f:\n",
    "    ba.write_sparse(f.create_group(\"X\"), csr_matrix)"
   ],
   "metadata": {
    "collapsed": false
   }
  },
  {
   "cell_type": "code",
   "execution_count": 38,
   "outputs": [],
   "source": [
    "# Write 2-d numpy array to hdf5\n",
    "h5_dense_path = 'dense.h5'\n",
    "with h5py.File(h5_dense_path, \"w\") as f:\n",
    "    f[\"X\"] = dense_array"
   ],
   "metadata": {
    "collapsed": false
   }
  },
  {
   "cell_type": "markdown",
   "source": [
    "## Zarr Backend"
   ],
   "metadata": {
    "collapsed": false
   }
  },
  {
   "cell_type": "code",
   "execution_count": 39,
   "outputs": [],
   "source": [
    "# Write sparse matrix in csc or csr format to zarr file\n",
    "zarr_csr_path = 'csr.zarr'\n",
    "with zarr.open(zarr_csr_path, mode=\"w\") as f:\n",
    "    ba.write_sparse(f.create_group(\"X\"), csr_matrix)"
   ],
   "metadata": {
    "collapsed": false
   }
  },
  {
   "cell_type": "code",
   "execution_count": 40,
   "outputs": [],
   "source": [
    " # Write 2-d numpy array to zarr format\n",
    "zarr_dense_path = 'dense.zarr'\n",
    "with zarr.open(zarr_dense_path, mode=\"w\") as f:\n",
    "    f[\"X\"] = dense_array"
   ],
   "metadata": {
    "collapsed": false
   }
  },
  {
   "cell_type": "markdown",
   "source": [
    "# Read Dataset"
   ],
   "metadata": {
    "collapsed": false
   }
  },
  {
   "cell_type": "markdown",
   "source": [
    "## HDF5 Backend"
   ],
   "metadata": {
    "collapsed": false
   }
  },
  {
   "cell_type": "code",
   "execution_count": 41,
   "outputs": [],
   "source": [
    "h5_csr_file = h5py.File(h5_csr_path, \"r\")\n",
    "h5_csr_disk = ba.open(h5_csr_file[\"X\"])\n",
    "h5_dense_file =  h5py.File(h5_dense_path, \"r\")\n",
    "h5_dense_disk = ba.open(h5_dense_file[\"X\"])"
   ],
   "metadata": {
    "collapsed": false
   }
  },
  {
   "cell_type": "markdown",
   "source": [
    "## Zarr Backend"
   ],
   "metadata": {
    "collapsed": false
   }
  },
  {
   "cell_type": "code",
   "execution_count": 42,
   "outputs": [],
   "source": [
    "zarr_csr_disk = ba.open(zarr.open(zarr_csr_path)[\"X\"])\n",
    "zarr_dense_disk = ba.open(zarr.open(zarr_dense_path)[\"X\"])"
   ],
   "metadata": {
    "collapsed": false
   }
  },
  {
   "cell_type": "markdown",
   "source": [
    "# Numpy Style Indexing"
   ],
   "metadata": {
    "collapsed": false
   }
  },
  {
   "cell_type": "code",
   "execution_count": 43,
   "outputs": [
    {
     "data": {
      "text/plain": "array([[0.72856365, 0.8610938 , 0.        , 0.        , 0.04454253,\n        0.        , 0.        , 0.        , 0.        , 0.        ,\n        0.        , 0.        , 0.        , 0.3990893 , 0.34160169,\n        0.43083183, 0.        , 0.01659938, 0.        , 0.05029692,\n        0.04005214, 0.        , 0.        , 0.94356757, 0.        ,\n        0.        , 0.        , 0.        , 0.        , 0.        ,\n        0.        , 0.73173317, 0.        , 0.37149114, 0.        ,\n        0.32696101, 0.        , 0.        , 0.        , 0.        ,\n        0.        , 0.        , 0.        , 0.        , 0.        ,\n        0.56223851, 0.        , 0.        , 0.        , 0.        ],\n       [0.        , 0.05874407, 0.        , 0.        , 0.        ,\n        0.        , 0.43282904, 0.3654535 , 0.        , 0.        ,\n        0.        , 0.        , 0.        , 0.05829187, 0.        ,\n        0.        , 0.        , 0.79824896, 0.04639874, 0.        ,\n        0.        , 0.        , 0.        , 0.        , 0.83955249,\n        0.        , 0.        , 0.        , 0.        , 0.84628793,\n        0.        , 0.        , 0.        , 0.        , 0.        ,\n        0.        , 0.        , 0.        , 0.0369339 , 0.        ,\n        0.        , 0.        , 0.        , 0.87527198, 0.83760364,\n        0.0542363 , 0.42456514, 0.48558519, 0.        , 0.        ]])"
     },
     "execution_count": 43,
     "metadata": {},
     "output_type": "execute_result"
    }
   ],
   "source": [
    "zarr_csr_disk[1:3].toarray()"
   ],
   "metadata": {
    "collapsed": false
   }
  },
  {
   "cell_type": "code",
   "execution_count": 44,
   "outputs": [
    {
     "data": {
      "text/plain": "array([[0.        , 0.        , 0.        , 0.47410356, 0.        ,\n        0.        , 0.63645999, 0.        , 0.        , 0.        ,\n        0.        , 0.        , 0.        , 0.        , 0.        ,\n        0.        , 0.        , 0.        , 0.        , 0.        ,\n        0.        , 0.        , 0.        , 0.        , 0.3305854 ,\n        0.        , 0.        , 0.26453512, 0.        , 0.        ,\n        0.        , 0.85138704, 0.13002323, 0.        , 0.        ,\n        0.        , 0.        , 0.        , 0.        , 0.        ,\n        0.        , 0.        , 0.        , 0.1908435 , 0.63189417,\n        0.94736818, 0.        , 0.        , 0.        , 0.36012683],\n       [0.97760577, 0.        , 0.        , 0.78986745, 0.        ,\n        0.        , 0.        , 0.        , 0.34662001, 0.        ,\n        0.        , 0.        , 0.74670336, 0.57551662, 0.        ,\n        0.        , 0.        , 0.17504075, 0.        , 0.        ,\n        0.        , 0.        , 0.        , 0.        , 0.        ,\n        0.        , 0.        , 0.20927514, 0.        , 0.81706707,\n        0.45420071, 0.        , 0.        , 0.        , 0.        ,\n        0.82720097, 0.        , 0.        , 0.        , 0.        ,\n        0.        , 0.        , 0.        , 0.        , 0.        ,\n        0.        , 0.        , 0.        , 0.        , 0.        ]])"
     },
     "execution_count": 44,
     "metadata": {},
     "output_type": "execute_result"
    }
   ],
   "source": [
    "zarr_dense_disk[-2:]"
   ],
   "metadata": {
    "collapsed": false
   }
  },
  {
   "cell_type": "code",
   "execution_count": 45,
   "outputs": [
    {
     "data": {
      "text/plain": "array([[0.        , 0.05874407, 0.        , ..., 0.48558519, 0.        ,\n        0.        ],\n       [0.        , 0.        , 0.        , ..., 0.        , 0.        ,\n        0.        ],\n       [0.82192458, 0.        , 0.        , ..., 0.        , 0.        ,\n        0.        ],\n       ...,\n       [0.        , 0.        , 0.        , ..., 0.54574553, 0.        ,\n        0.        ],\n       [0.        , 0.        , 0.        , ..., 0.        , 0.        ,\n        0.36012683],\n       [0.97760577, 0.        , 0.        , ..., 0.        , 0.        ,\n        0.        ]])"
     },
     "execution_count": 45,
     "metadata": {},
     "output_type": "execute_result"
    }
   ],
   "source": [
    "h5_csr_disk[2:].toarray()"
   ],
   "metadata": {
    "collapsed": false
   }
  },
  {
   "cell_type": "code",
   "execution_count": 46,
   "outputs": [
    {
     "data": {
      "text/plain": "array([[0.        , 0.54525499, 0.        , ..., 0.76724287, 0.66323358,\n        0.        ],\n       [0.72856365, 0.8610938 , 0.        , ..., 0.        , 0.        ,\n        0.        ],\n       [0.        , 0.05874407, 0.        , ..., 0.48558519, 0.        ,\n        0.        ],\n       ...,\n       [0.        , 0.        , 0.        , ..., 0.54574553, 0.        ,\n        0.        ],\n       [0.        , 0.        , 0.        , ..., 0.        , 0.        ,\n        0.36012683],\n       [0.97760577, 0.        , 0.        , ..., 0.        , 0.        ,\n        0.        ]])"
     },
     "execution_count": 46,
     "metadata": {},
     "output_type": "execute_result"
    }
   ],
   "source": [
    "h5_csr_disk[...].toarray()"
   ],
   "metadata": {
    "collapsed": false
   }
  },
  {
   "cell_type": "code",
   "execution_count": 47,
   "outputs": [
    {
     "data": {
      "text/plain": "array([[0.        , 0.54525499, 0.        , 0.        , 0.        ,\n        0.        , 0.        , 0.69714785, 0.52435088, 0.        ,\n        0.        , 0.        , 0.        , 0.06474248, 0.        ,\n        0.00189399, 0.        , 0.        , 0.        , 0.        ,\n        0.        , 0.        , 0.        , 0.        , 0.        ,\n        0.        , 0.92923897, 0.        , 0.        , 0.        ,\n        0.10634988, 0.        , 0.        , 0.        , 0.        ,\n        0.761273  , 0.        , 0.        , 0.        , 0.        ,\n        0.        , 0.        , 0.        , 0.        , 0.        ,\n        0.        , 0.        , 0.76724287, 0.66323358, 0.        ],\n       [0.72856365, 0.8610938 , 0.        , 0.        , 0.04454253,\n        0.        , 0.        , 0.        , 0.        , 0.        ,\n        0.        , 0.        , 0.        , 0.3990893 , 0.34160169,\n        0.43083183, 0.        , 0.01659938, 0.        , 0.05029692,\n        0.04005214, 0.        , 0.        , 0.94356757, 0.        ,\n        0.        , 0.        , 0.        , 0.        , 0.        ,\n        0.        , 0.73173317, 0.        , 0.37149114, 0.        ,\n        0.32696101, 0.        , 0.        , 0.        , 0.        ,\n        0.        , 0.        , 0.        , 0.        , 0.        ,\n        0.56223851, 0.        , 0.        , 0.        , 0.        ]])"
     },
     "execution_count": 47,
     "metadata": {},
     "output_type": "execute_result"
    }
   ],
   "source": [
    "h5_dense_disk[:2]"
   ],
   "metadata": {
    "collapsed": false
   }
  },
  {
   "cell_type": "code",
   "execution_count": 48,
   "outputs": [],
   "source": [
    "h5_csr_file.close()\n",
    "h5_dense_file.close()"
   ],
   "metadata": {
    "collapsed": false
   }
  },
  {
   "cell_type": "markdown",
   "source": [
    "# Append"
   ],
   "metadata": {
    "collapsed": false
   }
  },
  {
   "cell_type": "code",
   "execution_count": 49,
   "outputs": [],
   "source": [
    "zarr_csr_disk.append(csr_matrix)\n",
    "np.testing.assert_array_equal(zarr_csr_disk[...].toarray(), scipy.sparse.vstack((csr_matrix, csr_matrix)).toarray())"
   ],
   "metadata": {
    "collapsed": false
   }
  },
  {
   "cell_type": "markdown",
   "source": [
    "# Read h5ad files created using [anndata](https://anndata.readthedocs.io/)"
   ],
   "metadata": {
    "collapsed": false
   }
  },
  {
   "cell_type": "code",
   "execution_count": 50,
   "outputs": [],
   "source": [
    "%%bash\n",
    "if [ ! -f \"pbmc3k.h5ad\" ]; then\n",
    "    wget https://raw.githubusercontent.com/chanzuckerberg/cellxgene/main/example-dataset/pbmc3k.h5ad\n",
    "fi"
   ],
   "metadata": {
    "collapsed": false
   }
  },
  {
   "cell_type": "code",
   "execution_count": 51,
   "outputs": [],
   "source": [
    "import anndata.experimental\n",
    "with h5py.File('pbmc3k.h5ad', 'r') as f:\n",
    "    obs = anndata.experimental.read_elem(f['obs'])\n",
    "    var = anndata.experimental.read_elem(f['var'])\n",
    "    X = ba.open(f['X'])"
   ],
   "metadata": {
    "collapsed": false
   }
  }
 ],
 "metadata": {
  "kernelspec": {
   "display_name": "Python 3",
   "language": "python",
   "name": "python3"
  },
  "language_info": {
   "codemirror_mode": {
    "name": "ipython",
    "version": 2
   },
   "file_extension": ".py",
   "mimetype": "text/x-python",
   "name": "python",
   "nbconvert_exporter": "python",
   "pygments_lexer": "ipython2",
   "version": "2.7.6"
  }
 },
 "nbformat": 4,
 "nbformat_minor": 0
}
